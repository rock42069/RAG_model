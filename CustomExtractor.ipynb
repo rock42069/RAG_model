{
  "nbformat": 4,
  "nbformat_minor": 0,
  "metadata": {
    "colab": {
      "provenance": []
    },
    "kernelspec": {
      "name": "python3",
      "display_name": "Python 3"
    },
    "language_info": {
      "name": "python"
    }
  },
  "cells": [
    {
      "cell_type": "code",
      "source": [
        "!pip install google-cloud-documentai"
      ],
      "metadata": {
        "colab": {
          "base_uri": "https://localhost:8080/"
        },
        "id": "nVlCzzPMEFVq",
        "outputId": "d378c50b-5542-4e9d-f8be-2d5c6874ab4b"
      },
      "execution_count": null,
      "outputs": [
        {
          "output_type": "stream",
          "name": "stdout",
          "text": [
            "Requirement already satisfied: google-cloud-documentai in /usr/local/lib/python3.10/dist-packages (2.21.1)\n",
            "Requirement already satisfied: google-api-core[grpc]!=2.0.*,!=2.1.*,!=2.10.*,!=2.2.*,!=2.3.*,!=2.4.*,!=2.5.*,!=2.6.*,!=2.7.*,!=2.8.*,!=2.9.*,<3.0.0dev,>=1.34.0 in /usr/local/lib/python3.10/dist-packages (from google-cloud-documentai) (2.11.1)\n",
            "Requirement already satisfied: proto-plus<2.0.0dev,>=1.22.3 in /usr/local/lib/python3.10/dist-packages (from google-cloud-documentai) (1.23.0)\n",
            "Requirement already satisfied: protobuf!=3.20.0,!=3.20.1,!=4.21.0,!=4.21.1,!=4.21.2,!=4.21.3,!=4.21.4,!=4.21.5,<5.0.0dev,>=3.19.5 in /usr/local/lib/python3.10/dist-packages (from google-cloud-documentai) (3.20.3)\n",
            "Requirement already satisfied: googleapis-common-protos<2.0.dev0,>=1.56.2 in /usr/local/lib/python3.10/dist-packages (from google-api-core[grpc]!=2.0.*,!=2.1.*,!=2.10.*,!=2.2.*,!=2.3.*,!=2.4.*,!=2.5.*,!=2.6.*,!=2.7.*,!=2.8.*,!=2.9.*,<3.0.0dev,>=1.34.0->google-cloud-documentai) (1.62.0)\n",
            "Requirement already satisfied: google-auth<3.0.dev0,>=2.14.1 in /usr/local/lib/python3.10/dist-packages (from google-api-core[grpc]!=2.0.*,!=2.1.*,!=2.10.*,!=2.2.*,!=2.3.*,!=2.4.*,!=2.5.*,!=2.6.*,!=2.7.*,!=2.8.*,!=2.9.*,<3.0.0dev,>=1.34.0->google-cloud-documentai) (2.17.3)\n",
            "Requirement already satisfied: requests<3.0.0.dev0,>=2.18.0 in /usr/local/lib/python3.10/dist-packages (from google-api-core[grpc]!=2.0.*,!=2.1.*,!=2.10.*,!=2.2.*,!=2.3.*,!=2.4.*,!=2.5.*,!=2.6.*,!=2.7.*,!=2.8.*,!=2.9.*,<3.0.0dev,>=1.34.0->google-cloud-documentai) (2.31.0)\n",
            "Requirement already satisfied: grpcio<2.0dev,>=1.33.2 in /usr/local/lib/python3.10/dist-packages (from google-api-core[grpc]!=2.0.*,!=2.1.*,!=2.10.*,!=2.2.*,!=2.3.*,!=2.4.*,!=2.5.*,!=2.6.*,!=2.7.*,!=2.8.*,!=2.9.*,<3.0.0dev,>=1.34.0->google-cloud-documentai) (1.60.0)\n",
            "Requirement already satisfied: grpcio-status<2.0.dev0,>=1.33.2 in /usr/local/lib/python3.10/dist-packages (from google-api-core[grpc]!=2.0.*,!=2.1.*,!=2.10.*,!=2.2.*,!=2.3.*,!=2.4.*,!=2.5.*,!=2.6.*,!=2.7.*,!=2.8.*,!=2.9.*,<3.0.0dev,>=1.34.0->google-cloud-documentai) (1.48.2)\n",
            "Requirement already satisfied: cachetools<6.0,>=2.0.0 in /usr/local/lib/python3.10/dist-packages (from google-auth<3.0.dev0,>=2.14.1->google-api-core[grpc]!=2.0.*,!=2.1.*,!=2.10.*,!=2.2.*,!=2.3.*,!=2.4.*,!=2.5.*,!=2.6.*,!=2.7.*,!=2.8.*,!=2.9.*,<3.0.0dev,>=1.34.0->google-cloud-documentai) (5.3.2)\n",
            "Requirement already satisfied: pyasn1-modules>=0.2.1 in /usr/local/lib/python3.10/dist-packages (from google-auth<3.0.dev0,>=2.14.1->google-api-core[grpc]!=2.0.*,!=2.1.*,!=2.10.*,!=2.2.*,!=2.3.*,!=2.4.*,!=2.5.*,!=2.6.*,!=2.7.*,!=2.8.*,!=2.9.*,<3.0.0dev,>=1.34.0->google-cloud-documentai) (0.3.0)\n",
            "Requirement already satisfied: six>=1.9.0 in /usr/local/lib/python3.10/dist-packages (from google-auth<3.0.dev0,>=2.14.1->google-api-core[grpc]!=2.0.*,!=2.1.*,!=2.10.*,!=2.2.*,!=2.3.*,!=2.4.*,!=2.5.*,!=2.6.*,!=2.7.*,!=2.8.*,!=2.9.*,<3.0.0dev,>=1.34.0->google-cloud-documentai) (1.16.0)\n",
            "Requirement already satisfied: rsa<5,>=3.1.4 in /usr/local/lib/python3.10/dist-packages (from google-auth<3.0.dev0,>=2.14.1->google-api-core[grpc]!=2.0.*,!=2.1.*,!=2.10.*,!=2.2.*,!=2.3.*,!=2.4.*,!=2.5.*,!=2.6.*,!=2.7.*,!=2.8.*,!=2.9.*,<3.0.0dev,>=1.34.0->google-cloud-documentai) (4.9)\n",
            "Requirement already satisfied: charset-normalizer<4,>=2 in /usr/local/lib/python3.10/dist-packages (from requests<3.0.0.dev0,>=2.18.0->google-api-core[grpc]!=2.0.*,!=2.1.*,!=2.10.*,!=2.2.*,!=2.3.*,!=2.4.*,!=2.5.*,!=2.6.*,!=2.7.*,!=2.8.*,!=2.9.*,<3.0.0dev,>=1.34.0->google-cloud-documentai) (3.3.2)\n",
            "Requirement already satisfied: idna<4,>=2.5 in /usr/local/lib/python3.10/dist-packages (from requests<3.0.0.dev0,>=2.18.0->google-api-core[grpc]!=2.0.*,!=2.1.*,!=2.10.*,!=2.2.*,!=2.3.*,!=2.4.*,!=2.5.*,!=2.6.*,!=2.7.*,!=2.8.*,!=2.9.*,<3.0.0dev,>=1.34.0->google-cloud-documentai) (3.6)\n",
            "Requirement already satisfied: urllib3<3,>=1.21.1 in /usr/local/lib/python3.10/dist-packages (from requests<3.0.0.dev0,>=2.18.0->google-api-core[grpc]!=2.0.*,!=2.1.*,!=2.10.*,!=2.2.*,!=2.3.*,!=2.4.*,!=2.5.*,!=2.6.*,!=2.7.*,!=2.8.*,!=2.9.*,<3.0.0dev,>=1.34.0->google-cloud-documentai) (2.0.7)\n",
            "Requirement already satisfied: certifi>=2017.4.17 in /usr/local/lib/python3.10/dist-packages (from requests<3.0.0.dev0,>=2.18.0->google-api-core[grpc]!=2.0.*,!=2.1.*,!=2.10.*,!=2.2.*,!=2.3.*,!=2.4.*,!=2.5.*,!=2.6.*,!=2.7.*,!=2.8.*,!=2.9.*,<3.0.0dev,>=1.34.0->google-cloud-documentai) (2023.11.17)\n",
            "Requirement already satisfied: pyasn1<0.6.0,>=0.4.6 in /usr/local/lib/python3.10/dist-packages (from pyasn1-modules>=0.2.1->google-auth<3.0.dev0,>=2.14.1->google-api-core[grpc]!=2.0.*,!=2.1.*,!=2.10.*,!=2.2.*,!=2.3.*,!=2.4.*,!=2.5.*,!=2.6.*,!=2.7.*,!=2.8.*,!=2.9.*,<3.0.0dev,>=1.34.0->google-cloud-documentai) (0.5.1)\n"
          ]
        }
      ]
    },
    {
      "cell_type": "code",
      "source": [
        "from google.colab import auth\n",
        "\n",
        "# Authenticate with Google Cloud\n",
        "auth.authenticate_user()"
      ],
      "metadata": {
        "id": "hywjPpnAHBVu"
      },
      "execution_count": null,
      "outputs": []
    },
    {
      "cell_type": "code",
      "source": [
        "from google.cloud import storage\n",
        "\n",
        "def print_current_project_id(project_id):\n",
        "    # Set the project ID explicitly\n",
        "    storage_client = storage.Client(project=project_id)\n",
        "\n",
        "    # Get the current project ID\n",
        "    current_project_id = storage_client.project\n",
        "\n",
        "    # Print the current project ID\n",
        "    print(f\"Current Project ID: {current_project_id}\")\n",
        "\n",
        "project_id = \"1080271175627\"\n",
        "\n",
        "# Function to print the current project ID\n",
        "print_current_project_id(project_id)"
      ],
      "metadata": {
        "colab": {
          "base_uri": "https://localhost:8080/"
        },
        "id": "Cpi0cigaIQ3Q",
        "outputId": "a3e2ea4a-e516-4c1c-db38-e43ce7cd30d7"
      },
      "execution_count": null,
      "outputs": [
        {
          "output_type": "stream",
          "name": "stdout",
          "text": [
            "Current Project ID: 1080271175627\n"
          ]
        }
      ]
    },
    {
      "cell_type": "code",
      "source": [
        "from google.cloud import documentai_v1 as documentai\n",
        "\n",
        "def process_document(project_id, location, processor_id, file_path, mime_type):\n",
        "    client = documentai.DocumentProcessorServiceClient()\n",
        "\n",
        "    # The full resource name of the processor, e.g.:\n",
        "    # projects/{project_id}/locations/{location}/processors/{processor_id}\n",
        "    name = f\"projects/{project_id}/locations/{location}/processors/{processor_id}\"\n",
        "\n",
        "    # Read the file into memory\n",
        "    with open(file_path, \"rb\") as image:\n",
        "        image_content = image.read()\n",
        "\n",
        "    # Configure the input document\n",
        "    document = {\"content\": image_content, \"mime_type\": mime_type}\n",
        "\n",
        "    # Configure the process request\n",
        "    request = documentai.ProcessRequest(\n",
        "        name=name,\n",
        "        inline_document=document\n",
        "    )\n",
        "\n",
        "    # Process the document\n",
        "    result = client.process_document(request=request)\n",
        "\n",
        "    # Extract text from the processed document\n",
        "    document_text = result.document.text\n",
        "    print(\"Extracted text:\")\n",
        "    print(document_text)"
      ],
      "metadata": {
        "id": "vcG2THRR_azh"
      },
      "execution_count": null,
      "outputs": []
    },
    {
      "cell_type": "code",
      "source": [
        "# Call the function with the necessary parameters\n",
        "process_document(\n",
        "  project_id=\"1080271175627\",\n",
        "  location=\"us\",\n",
        "  processor_id=\"1548437960673232\",\n",
        "  file_path = \"/content/YAMUNA NAGAR_NEO_121023_02.jpeg\",\n",
        "  mime_type=\"image/jpeg\"\n",
        ")"
      ],
      "metadata": {
        "colab": {
          "base_uri": "https://localhost:8080/"
        },
        "id": "7wgB0hnNAN2P",
        "outputId": "394f061f-aaad-4b9e-87f6-a990fb1200b8"
      },
      "execution_count": null,
      "outputs": [
        {
          "output_type": "stream",
          "name": "stdout",
          "text": [
            "Extracted text:\n",
            "SESSION\n",
            "DATE\n",
            "SESSION\n",
            "LOCATION\n",
            "6/5/23 PNC\n",
            "SESSION\n",
            "CONDUCTED\n",
            "BY NAME\n",
            "NO YOONATY\n",
            "CHARTA\n",
            "6/5/23 Female N/o Rubina\n",
            "ward\n",
            "No Amarjeet\n",
            "7/5/23 PNC N/O Rubing\n",
            "7/5/23 NBSU Amarjeet\n",
            "ANC\n",
            "PNC\n",
            "CLASS TYPE\n",
            "PEOPLE\n",
            "TRAINED\n",
            "PHOTO\n",
            "SENT\n",
            "SNCU\n",
            "NBSU\n",
            "30\n",
            "SESSION\n",
            "DATE\n",
            "16/5/2\n",
            "20\n",
            "25\n",
            "L\n",
            "16/5/2\n",
            "17/5\n",
            "10\n",
            "L\n",
            "1815\n",
            "Nochamjeet\n",
            "2015\n",
            "Njo kalpana\n",
            "21\n",
            "No Neelam\n",
            "Meena\n",
            "22\n",
            "8/3/23 Staff\n",
            "Nursing\n",
            "23\n",
            "07\n",
            "11/5/23 PNC NoRubina\n",
            "station\n",
            "traning No Rubina\n",
            "Facility Name:\n",
            "10/5/23 area No Neelam\n",
            "waiting NoRubina\n",
            "No Veera\n",
            "No Amaneel\n",
            "12/5/23 PNC NO Rubina\n",
            "12/5/23 Station No Rubing\n",
            "training to\n",
            "the BNS Student\n",
            "13/5/23 PNC N/U Rooma\n",
            "NoAmarjeet\n",
            "241\n",
            "TILDCH Y.NR\n",
            "50\n",
            "25\n",
            "20\n",
            "35\n",
            "25\n",
            "५०\n",
            "29\n",
            "8\n",
            "3\n",
            "ง\n",
            "30\n",
            "2\n",
            "3\n",
            "15/5/23\n",
            "ANC NO Rubing\n",
            "५०\n",
            "Please take a photo and send it to the designated WhatsApp group\n",
            "\n"
          ]
        }
      ]
    }
  ]
}